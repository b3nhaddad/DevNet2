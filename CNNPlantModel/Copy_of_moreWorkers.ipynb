{
  "cells": [
    {
      "cell_type": "code",
      "execution_count": 2,
      "metadata": {
        "id": "nK9MFVMaX5np"
      },
      "outputs": [],
      "source": [
        "import torch.nn as nn\n",
        "import torch.nn.functional as F\n",
        "import torch.optim as optim\n",
        "from PIL import Image\n",
        "import os\n",
        "import torch\n",
        "from torch.utils.data import Dataset\n",
        "import numpy as np\n",
        "from torch.utils.data import Dataset, DataLoader\n",
        "from sklearn.model_selection import train_test_split\n",
        "import shutil\n",
        "from torchvision import transforms\n",
        "from tqdm import tqdm"
      ]
    },
    {
      "cell_type": "code",
      "execution_count": 3,
      "metadata": {
        "colab": {
          "base_uri": "https://localhost:8080/"
        },
        "id": "WWiYU8A8YTHL",
        "outputId": "52903167-844e-476a-f777-ca14f389b345"
      },
      "outputs": [
        {
          "output_type": "stream",
          "name": "stdout",
          "text": [
            "Warning: Looks like you're using an outdated `kagglehub` version, please consider updating (latest version: 0.3.4)\n",
            "Downloading from https://www.kaggle.com/api/v1/datasets/download/csafrit2/plant-leaves-for-image-classification?dataset_version_number=2...\n"
          ]
        },
        {
          "output_type": "stream",
          "name": "stderr",
          "text": [
            "100%|██████████| 6.56G/6.56G [01:12<00:00, 97.3MB/s]"
          ]
        },
        {
          "output_type": "stream",
          "name": "stdout",
          "text": [
            "Extracting model files...\n"
          ]
        },
        {
          "output_type": "stream",
          "name": "stderr",
          "text": [
            "\n"
          ]
        },
        {
          "output_type": "stream",
          "name": "stdout",
          "text": [
            "Path to dataset files: /root/.cache/kagglehub/datasets/csafrit2/plant-leaves-for-image-classification/versions/2\n"
          ]
        }
      ],
      "source": [
        "import kagglehub\n",
        "path = kagglehub.dataset_download(\"csafrit2/plant-leaves-for-image-classification\")\n",
        "\n",
        "print(\"Path to dataset files:\", path)"
      ]
    },
    {
      "cell_type": "code",
      "execution_count": 4,
      "metadata": {
        "id": "TkAS36dzaDMg"
      },
      "outputs": [],
      "source": [
        "\n",
        "healthy = [\n",
        "    os.path.join(path, 'Plants_2/train/Pomegranate healthy (P9a)'),\n",
        "    os.path.join(path, 'Plants_2/train/Arjun healthy (P1b)'),\n",
        "    os.path.join(path, 'Plants_2/train/Jamun healthy (P5a)')\n",
        "]\n",
        "\n",
        "diseased = [\n",
        "    os.path.join(path, 'Plants_2/train/Pomegranate diseased (P9b)'),\n",
        "    os.path.join(path, 'Plants_2/train/Arjun diseased (P1a)'),\n",
        "    os.path.join(path, 'Plants_2/train/Jamun diseased (P5b)')\n",
        "]\n",
        "\n",
        "healthy_files = [os.path.join(h, f) for h in healthy for f in os.listdir(h) if os.path.isfile(os.path.join(h, f))]\n",
        "diseased_files = [os.path.join(d, f) for d in diseased for f in os.listdir(d) if os.path.isfile(os.path.join(d, f))]\n",
        "\n"
      ]
    },
    {
      "cell_type": "code",
      "execution_count": 6,
      "metadata": {
        "colab": {
          "base_uri": "https://localhost:8080/"
        },
        "id": "kEQBmFDSdTcB",
        "outputId": "840697c1-f333-4ab0-82bd-1f89e9fceff2"
      },
      "outputs": [
        {
          "output_type": "stream",
          "name": "stdout",
          "text": [
            "Number of healthy images: 755\n",
            "Number of diseased images: 818\n",
            "Total number of images: 1573\n"
          ]
        }
      ],
      "source": [
        "\n",
        "all_files = healthy_files + diseased_files\n",
        "labels = [0] * len(healthy_files) + [1] * len(diseased_files)\n",
        "\n",
        "print(f\"Number of healthy images: {len(healthy_files)}\")\n",
        "print(f\"Number of diseased images: {len(diseased_files)}\")\n",
        "print(f\"Total number of images: {len(all_files)}\")\n",
        "\n",
        "train_files, test_files, train_labels, test_labels = train_test_split(all_files, labels, test_size=0.2, stratify=labels, random_state=42)\n",
        "\n",
        "\n",
        "class PlantImageDataset(Dataset):\n",
        "    def __init__(self, image_files, labels, transform=None, target_size=(128, 128)):\n",
        "        self.image_files = image_files\n",
        "        self.labels = labels\n",
        "        self.target_size = target_size\n",
        "\n",
        "        self.transform = transform if transform else transforms.Compose([\n",
        "            transforms.Resize(self.target_size),\n",
        "            transforms.ToTensor()\n",
        "        ])\n",
        "\n",
        "    def __len__(self):\n",
        "        return len(self.image_files)\n",
        "\n",
        "    def __getitem__(self, idx):\n",
        "        img_path = self.image_files[idx]\n",
        "        image = Image.open(img_path)\n",
        "\n",
        "        if self.transform:\n",
        "            image = self.transform(image)\n",
        "\n",
        "        label = self.labels[idx]\n",
        "\n",
        "        return image, label\n",
        "train_dataset = PlantImageDataset(train_files, train_labels, target_size=(128, 128))\n",
        "test_dataset = PlantImageDataset(test_files, test_labels, target_size=(128, 128))\n"
      ]
    },
    {
      "cell_type": "markdown",
      "source": [],
      "metadata": {
        "id": "0WWj_YEioG7C"
      }
    },
    {
      "cell_type": "code",
      "source": [
        "\n",
        "\n",
        "device = torch.device(\"cuda\" if torch.cuda.is_available() else \"cpu\")\n",
        "print(f\"Using device: {device}\")"
      ],
      "metadata": {
        "colab": {
          "base_uri": "https://localhost:8080/"
        },
        "id": "VTxXn7geoR0e",
        "outputId": "609363a4-99c5-47a3-a7be-553f4fa09538"
      },
      "execution_count": 7,
      "outputs": [
        {
          "output_type": "stream",
          "name": "stdout",
          "text": [
            "Using device: cpu\n"
          ]
        }
      ]
    },
    {
      "cell_type": "code",
      "execution_count": 8,
      "metadata": {
        "id": "7voEQBPeYEwb",
        "collapsed": true,
        "colab": {
          "base_uri": "https://localhost:8080/"
        },
        "outputId": "b57be3c2-cd7d-4a55-d72b-2dccc09c2444"
      },
      "outputs": [
        {
          "output_type": "stream",
          "name": "stderr",
          "text": [
            "/usr/local/lib/python3.10/dist-packages/torchvision/models/_utils.py:208: UserWarning: The parameter 'pretrained' is deprecated since 0.13 and may be removed in the future, please use 'weights' instead.\n",
            "  warnings.warn(\n",
            "/usr/local/lib/python3.10/dist-packages/torchvision/models/_utils.py:223: UserWarning: Arguments other than a weight enum or `None` for 'weights' are deprecated since 0.13 and may be removed in the future. The current behavior is equivalent to passing `weights=ResNet18_Weights.IMAGENET1K_V1`. You can also use `weights=ResNet18_Weights.DEFAULT` to get the most up-to-date weights.\n",
            "  warnings.warn(msg)\n",
            "Downloading: \"https://download.pytorch.org/models/resnet18-f37072fd.pth\" to /root/.cache/torch/hub/checkpoints/resnet18-f37072fd.pth\n",
            "100%|██████████| 44.7M/44.7M [00:00<00:00, 75.1MB/s]\n"
          ]
        }
      ],
      "source": [
        "import torchvision.models as models\n",
        "import torch.optim as optim\n",
        "import torch.nn as nn\n",
        "\n",
        "\n",
        "CNN_model = models.resnet18(pretrained=True)\n",
        "for param in CNN_model.parameters():\n",
        "    param.requires_grad = False\n",
        "\n",
        "num_features = CNN_model.fc.in_features\n",
        "CNN_model.fc = nn.Linear(num_features, 2)\n",
        "\n",
        "CNN_model = CNN_model.to(device)\n",
        "\n",
        "criterion = nn.CrossEntropyLoss()\n",
        "optimizer = optim.SGD(CNN_model.fc.parameters(), lr=0.001, momentum=0.9)\n"
      ]
    },
    {
      "cell_type": "code",
      "source": [
        "train_loader = DataLoader(train_dataset, batch_size=32, shuffle=True, num_workers=4, pin_memory=True)\n",
        "test_loader = DataLoader(test_dataset, batch_size=32, shuffle=False, num_workers=4, pin_memory=True)\n",
        "\n",
        "def calculate_accuracy(predictions, labels):\n",
        "    _, predicted = torch.max(predictions, 1)\n",
        "    correct = (predicted == labels).sum().item()\n",
        "    return correct / len(labels)\n",
        "\n",
        "\n",
        "num_epochs = 10\n",
        "device = torch.device(\"cuda\" if torch.cuda.is_available() else \"cpu\")\n",
        "\n",
        "CNN_model = CNN_model.to(device)\n",
        "\n",
        "for epoch in range(num_epochs):\n",
        "    CNN_model.train()\n",
        "    running_loss = 0.0\n",
        "    running_accuracy = 0.0\n",
        "\n",
        "    for images, labels in tqdm(train_loader):\n",
        "        images, labels = images.to(device), labels.to(device)\n",
        "\n",
        "        optimizer.zero_grad()\n",
        "\n",
        "        outputs = CNN_model(images)\n",
        "\n",
        "        loss = criterion(outputs, labels)\n",
        "\n",
        "        loss.backward()\n",
        "        optimizer.step()\n",
        "\n",
        "        running_loss += loss.item()\n",
        "        running_accuracy += calculate_accuracy(outputs, labels)\n",
        "\n",
        "    epoch_loss = running_loss / len(train_loader)\n",
        "    epoch_accuracy = running_accuracy / len(train_loader)\n",
        "\n",
        "    print(f\"Epoch [{epoch + 1}/{num_epochs}], Loss: {epoch_loss:.4f}, Accuracy: {epoch_accuracy:.4f}\")\n",
        "\n"
      ],
      "metadata": {
        "colab": {
          "base_uri": "https://localhost:8080/"
        },
        "id": "6ypRc3m_rQ0x",
        "outputId": "d7144d71-672e-4043-c6eb-47aeccfcb31e"
      },
      "execution_count": 9,
      "outputs": [
        {
          "output_type": "stream",
          "name": "stderr",
          "text": [
            "100%|██████████| 40/40 [01:11<00:00,  1.80s/it]\n"
          ]
        },
        {
          "output_type": "stream",
          "name": "stdout",
          "text": [
            "Epoch [1/10], Loss: 0.5451, Accuracy: 0.7003\n"
          ]
        },
        {
          "output_type": "stream",
          "name": "stderr",
          "text": [
            "100%|██████████| 40/40 [01:10<00:00,  1.75s/it]\n"
          ]
        },
        {
          "output_type": "stream",
          "name": "stdout",
          "text": [
            "Epoch [2/10], Loss: 0.3605, Accuracy: 0.8316\n"
          ]
        },
        {
          "output_type": "stream",
          "name": "stderr",
          "text": [
            "100%|██████████| 40/40 [01:11<00:00,  1.78s/it]\n"
          ]
        },
        {
          "output_type": "stream",
          "name": "stdout",
          "text": [
            "Epoch [3/10], Loss: 0.3246, Accuracy: 0.8633\n"
          ]
        },
        {
          "output_type": "stream",
          "name": "stderr",
          "text": [
            "100%|██████████| 40/40 [01:10<00:00,  1.76s/it]\n"
          ]
        },
        {
          "output_type": "stream",
          "name": "stdout",
          "text": [
            "Epoch [4/10], Loss: 0.2856, Accuracy: 0.8755\n"
          ]
        },
        {
          "output_type": "stream",
          "name": "stderr",
          "text": [
            "100%|██████████| 40/40 [01:11<00:00,  1.78s/it]\n"
          ]
        },
        {
          "output_type": "stream",
          "name": "stdout",
          "text": [
            "Epoch [5/10], Loss: 0.2638, Accuracy: 0.9023\n"
          ]
        },
        {
          "output_type": "stream",
          "name": "stderr",
          "text": [
            "100%|██████████| 40/40 [01:12<00:00,  1.80s/it]\n"
          ]
        },
        {
          "output_type": "stream",
          "name": "stdout",
          "text": [
            "Epoch [6/10], Loss: 0.2472, Accuracy: 0.9078\n"
          ]
        },
        {
          "output_type": "stream",
          "name": "stderr",
          "text": [
            "100%|██████████| 40/40 [01:10<00:00,  1.77s/it]\n"
          ]
        },
        {
          "output_type": "stream",
          "name": "stdout",
          "text": [
            "Epoch [7/10], Loss: 0.2582, Accuracy: 0.8959\n"
          ]
        },
        {
          "output_type": "stream",
          "name": "stderr",
          "text": [
            "100%|██████████| 40/40 [01:10<00:00,  1.75s/it]\n"
          ]
        },
        {
          "output_type": "stream",
          "name": "stdout",
          "text": [
            "Epoch [8/10], Loss: 0.2515, Accuracy: 0.8969\n"
          ]
        },
        {
          "output_type": "stream",
          "name": "stderr",
          "text": [
            "100%|██████████| 40/40 [01:10<00:00,  1.77s/it]\n"
          ]
        },
        {
          "output_type": "stream",
          "name": "stdout",
          "text": [
            "Epoch [9/10], Loss: 0.2370, Accuracy: 0.9067\n"
          ]
        },
        {
          "output_type": "stream",
          "name": "stderr",
          "text": [
            "100%|██████████| 40/40 [01:10<00:00,  1.75s/it]"
          ]
        },
        {
          "output_type": "stream",
          "name": "stdout",
          "text": [
            "Epoch [10/10], Loss: 0.2164, Accuracy: 0.9125\n"
          ]
        },
        {
          "output_type": "stream",
          "name": "stderr",
          "text": [
            "\n"
          ]
        }
      ]
    },
    {
      "cell_type": "code",
      "source": [
        "\n",
        "    CNN_model.eval()\n",
        "    test_loss = 0.0\n",
        "    test_accuracy = 0.0\n",
        "\n",
        "    with torch.no_grad():\n",
        "        for images, labels in test_loader:\n",
        "            images, labels = images.to(device), labels.to(device)\n",
        "\n",
        "            outputs = CNN_model(images)\n",
        "            loss = criterion(outputs, labels)\n",
        "\n",
        "            test_loss += loss.item()\n",
        "            test_accuracy += calculate_accuracy(outputs, labels)\n",
        "\n",
        "    test_loss /= len(test_loader)\n",
        "    test_accuracy /= len(test_loader)\n",
        "\n",
        "    print(f\"Validation Loss: {test_loss:.4f}, Validation Accuracy: {test_accuracy:.4f}\")\n",
        "\n",
        "print(\"Training completed!\")"
      ],
      "metadata": {
        "colab": {
          "base_uri": "https://localhost:8080/"
        },
        "id": "1UG1cRqv1UkR",
        "outputId": "b170d7fb-471b-4b83-e883-cc319ed17bdf"
      },
      "execution_count": 10,
      "outputs": [
        {
          "output_type": "stream",
          "name": "stdout",
          "text": [
            "Validation Loss: 0.2279, Validation Accuracy: 0.8946\n",
            "Training completed!\n"
          ]
        }
      ]
    },
    {
      "cell_type": "code",
      "source": [
        "from google.colab import drive\n",
        "drive.mount('/content/drive')"
      ],
      "metadata": {
        "colab": {
          "base_uri": "https://localhost:8080/"
        },
        "id": "hFDFvdUTkuHY",
        "outputId": "64800a20-3809-47ba-a34a-fcd4bce22578"
      },
      "execution_count": 18,
      "outputs": [
        {
          "output_type": "stream",
          "name": "stdout",
          "text": [
            "Drive already mounted at /content/drive; to attempt to forcibly remount, call drive.mount(\"/content/drive\", force_remount=True).\n"
          ]
        }
      ]
    },
    {
      "cell_type": "code",
      "source": [
        "os.makedirs('/content/drive/My Drive/models', exist_ok=True)\n",
        "model_path = '/content/drive/My Drive/models/cnn_model_weights.pth'\n",
        "torch.save(CNN_model.state_dict(), model_path)\n"
      ],
      "metadata": {
        "id": "nMOldDyelTR2"
      },
      "execution_count": 21,
      "outputs": []
    },
    {
      "cell_type": "markdown",
      "source": [],
      "metadata": {
        "id": "3o2FcLI6oZRE"
      }
    }
  ],
  "metadata": {
    "accelerator": "TPU",
    "colab": {
      "gpuType": "V28",
      "machine_shape": "hm",
      "provenance": []
    },
    "kernelspec": {
      "display_name": "Python 3",
      "name": "python3"
    },
    "language_info": {
      "name": "python"
    }
  },
  "nbformat": 4,
  "nbformat_minor": 0
}